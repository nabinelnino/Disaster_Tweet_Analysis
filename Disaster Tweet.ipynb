{
 "cells": [
  {
   "cell_type": "markdown",
   "id": "02509940",
   "metadata": {},
   "source": [
    "# Disaster Tweet Prediction using RNN\n",
    "\n",
    "In this Project I will use a recurrent neural network to predict whether or not a *tweet* is talking about a real disaster or not. To do this, I will use *Kaggle.com*'s competition [Natural Language Processing with Disaster Tweets](https://www.kaggle.com/c/nlp-getting-started). <br>\n",
    "**Disclaimer: The dataset for this competition contains text that may be considered profane, vulgar, or offensive.**\n",
    "\n",
    "**Requirements**\n",
    " - Keras's `TextVectorization` functionality must be used, although it need not be part of the model\n",
    " - `train.csv` should be split into training and validation sets \n",
    " - the heart of  model must only use recurrent layers chosen from those [available in Keras](https://keras.io/api/layers/#recurrent-layers)\n",
    " - an embedding layer should be used; this can be learned along with the main task or use the [GloVe](https://github.com/stanfordnlp/GloVe) or [word2vec]() pretrained word embeddings\n",
    " - the evaluation metric for this dataset is the [F1-Score](https://www.kaggle.com/c/nlp-getting-started/overview/evaluation)"
   ]
  },
  {
   "cell_type": "code",
   "execution_count": 1,
   "id": "2364d67d",
   "metadata": {},
   "outputs": [],
   "source": [
    "#Loading required libraries\n",
    "import numpy as np                               # linear algebra\n",
    "import pandas as pd                              # data processing, CSV file I/O (e.g. pd.read_csv)\n",
    "\n",
    "import re                                        # to handle regular expressions\n",
    "from string import punctuation                   # to extract the puntuation symbols\n",
    "\n",
    "from nltk.tokenize import word_tokenize          # to divide strings into tokens\n",
    "from nltk.stem import WordNetLemmatizer          # to lemmatize the tokens\n",
    "from nltk.corpus import stopwords                # to remove the stopwords \n",
    "\n",
    "import random                                    # for generating (pseudo-)random numbers\n",
    "import matplotlib.pyplot as plt                  # to plot some visualizations\n",
    "\n",
    "import tensorflow as tf            \n",
    "from tensorflow import keras\n",
    "from tensorflow.keras import layers\n",
    "from tensorflow.keras.layers.experimental.preprocessing import TextVectorization\n",
    "from tensorflow.keras.layers import Embedding\n",
    "from tensorflow.keras.callbacks import EarlyStopping"
   ]
  },
  {
   "cell_type": "code",
   "execution_count": 2,
   "id": "a08f81fe",
   "metadata": {},
   "outputs": [],
   "source": [
    "train_data = pd.read_csv(\"nlp-getting-started/train.csv\")\n",
    "test_data  = pd.read_csv(\"nlp-getting-started/test.csv\")"
   ]
  },
  {
   "cell_type": "code",
   "execution_count": 3,
   "id": "3ee1fcd9",
   "metadata": {},
   "outputs": [
    {
     "name": "stdout",
     "output_type": "stream",
     "text": [
      "Example of a real tweet: \n",
      "b/c it costs less to have sick people using emergency rooms?...grrrr.... http://t.co/vFbbcHwrFD\n",
      "****************************************************************************************************\n",
      "Example of a fake tweet: \n",
      "Set goals &amp; DEMOLISH them all! ?\n"
     ]
    }
   ],
   "source": [
    "pd.options.display.max_colwidth = 300   # to show the whole tweets\n",
    "\n",
    "print(\"Example of a real tweet: \\n\" +train_data[train_data['target']==1].sample()['text'].values[0])\n",
    "print(\"*\"*100)\n",
    "print(\"Example of a fake tweet: \\n\" +train_data[train_data['target']==0].sample()['text'].values[0])"
   ]
  },
  {
   "cell_type": "code",
   "execution_count": 4,
   "id": "037821d1",
   "metadata": {},
   "outputs": [],
   "source": [
    "# cleaning the text\n",
    "\n",
    "def clean_text(text):\n",
    "    '''Make text lowercase, remove links,remove punctuation\n",
    "    and remove words containing numbers.'''\n",
    "    text = text.lower()\n",
    "    text = re.sub('https?://\\S+|www\\.\\S+', '', text)\n",
    "    text = re.sub('[%s]' % re.escape(punctuation), '', text)\n",
    "    text = re.sub('\\n', '', text)\n",
    "    text = re.sub('\\w*\\d\\w*', '', text)\n",
    "    return text\n",
    "\n",
    "# Applying the cleaning function to both test and train datasets\n",
    "train_data['text'] = train_data['text'].apply(lambda x: clean_text(x))\n",
    "test_data['text'] = test_data['text'].apply(lambda x: clean_text(x))"
   ]
  },
  {
   "cell_type": "code",
   "execution_count": 5,
   "id": "bc1627d0",
   "metadata": {},
   "outputs": [],
   "source": [
    "# tokenizing the text\n",
    "\n",
    "train_data['text'] = train_data['text'].apply(lambda x:word_tokenize(x))\n",
    "test_data['text'] = test_data['text'].apply(lambda x:word_tokenize(x))"
   ]
  },
  {
   "cell_type": "code",
   "execution_count": 6,
   "id": "c96b8a6c",
   "metadata": {},
   "outputs": [],
   "source": [
    "# removing stopwords (defined in nltk.corpus.stopwords)\n",
    "\n",
    "def remove_stopwords(text):\n",
    "    words = [w for w in text if w not in stopwords.words('english')]\n",
    "    return words \n",
    "# Applying the removing stopwords function to both test and train datasets\n",
    "train_data['text'] = train_data['text'].apply(lambda x : remove_stopwords(x))\n",
    "test_data['text'] = test_data['text'].apply(lambda x : remove_stopwords(x))"
   ]
  },
  {
   "cell_type": "code",
   "execution_count": 7,
   "id": "ed93d827",
   "metadata": {},
   "outputs": [],
   "source": [
    "# lemmatizing the text entries\n",
    "\n",
    "def lemmatize_text(text):\n",
    "    lemmatizer = WordNetLemmatizer()\n",
    "    return [lemmatizer.lemmatize(w) for w in text] \n",
    "\n",
    "# Applying the lemmatize_text function to both test and train datasets\n",
    "train_data['text'] = train_data['text'].apply(lambda x : lemmatize_text(x))\n",
    "test_data['text'] = test_data['text'].apply(lambda x : lemmatize_text(x))"
   ]
  },
  {
   "cell_type": "code",
   "execution_count": 8,
   "id": "93ff33a2",
   "metadata": {},
   "outputs": [],
   "source": [
    "# converting list of strings into joint strings\n",
    "\n",
    "def concatenate_text(text):\n",
    "    return ' '.join(text)\n",
    "\n",
    "train_data['text'] = train_data['text'].apply(lambda x : concatenate_text(x))\n",
    "test_data['text'] = test_data['text'].apply(lambda x : concatenate_text(x))"
   ]
  },
  {
   "cell_type": "code",
   "execution_count": 9,
   "id": "9107b569",
   "metadata": {},
   "outputs": [
    {
     "data": {
      "text/html": [
       "<div>\n",
       "<style scoped>\n",
       "    .dataframe tbody tr th:only-of-type {\n",
       "        vertical-align: middle;\n",
       "    }\n",
       "\n",
       "    .dataframe tbody tr th {\n",
       "        vertical-align: top;\n",
       "    }\n",
       "\n",
       "    .dataframe thead th {\n",
       "        text-align: right;\n",
       "    }\n",
       "</style>\n",
       "<table border=\"1\" class=\"dataframe\">\n",
       "  <thead>\n",
       "    <tr style=\"text-align: right;\">\n",
       "      <th></th>\n",
       "      <th>id</th>\n",
       "      <th>keyword</th>\n",
       "      <th>location</th>\n",
       "      <th>text</th>\n",
       "      <th>target</th>\n",
       "    </tr>\n",
       "  </thead>\n",
       "  <tbody>\n",
       "    <tr>\n",
       "      <th>1329</th>\n",
       "      <td>1920</td>\n",
       "      <td>burning</td>\n",
       "      <td>NaN</td>\n",
       "      <td>last day summer supposed fun whats fun accidentally burning arm hair playing w lighter</td>\n",
       "      <td>0</td>\n",
       "    </tr>\n",
       "    <tr>\n",
       "      <th>1568</th>\n",
       "      <td>2265</td>\n",
       "      <td>cliff%20fall</td>\n",
       "      <td>NaN</td>\n",
       "      <td>youre reading go accidentally fall cliff mate</td>\n",
       "      <td>0</td>\n",
       "    </tr>\n",
       "    <tr>\n",
       "      <th>5040</th>\n",
       "      <td>7186</td>\n",
       "      <td>mudslide</td>\n",
       "      <td>NaN</td>\n",
       "      <td>called mudslide aw</td>\n",
       "      <td>0</td>\n",
       "    </tr>\n",
       "    <tr>\n",
       "      <th>430</th>\n",
       "      <td>623</td>\n",
       "      <td>arsonist</td>\n",
       "      <td>Adelaide, South Australia</td>\n",
       "      <td>arsonist blamed blaze plastic recycling business adelaide report</td>\n",
       "      <td>0</td>\n",
       "    </tr>\n",
       "    <tr>\n",
       "      <th>4050</th>\n",
       "      <td>5753</td>\n",
       "      <td>forest%20fires</td>\n",
       "      <td>NaN</td>\n",
       "      <td>reddit lightning spark new fire boise national forest rstormcoming</td>\n",
       "      <td>1</td>\n",
       "    </tr>\n",
       "  </tbody>\n",
       "</table>\n",
       "</div>"
      ],
      "text/plain": [
       "        id         keyword                   location  \\\n",
       "1329  1920         burning                        NaN   \n",
       "1568  2265    cliff%20fall                        NaN   \n",
       "5040  7186        mudslide                        NaN   \n",
       "430    623        arsonist  Adelaide, South Australia   \n",
       "4050  5753  forest%20fires                        NaN   \n",
       "\n",
       "                                                                                        text  \\\n",
       "1329  last day summer supposed fun whats fun accidentally burning arm hair playing w lighter   \n",
       "1568                                           youre reading go accidentally fall cliff mate   \n",
       "5040                                                                      called mudslide aw   \n",
       "430                         arsonist blamed blaze plastic recycling business adelaide report   \n",
       "4050                      reddit lightning spark new fire boise national forest rstormcoming   \n",
       "\n",
       "      target  \n",
       "1329       0  \n",
       "1568       0  \n",
       "5040       0  \n",
       "430        0  \n",
       "4050       1  "
      ]
     },
     "execution_count": 9,
     "metadata": {},
     "output_type": "execute_result"
    }
   ],
   "source": [
    "train_data.sample(5)"
   ]
  },
  {
   "cell_type": "markdown",
   "id": "19a967fa",
   "metadata": {},
   "source": [
    "### Importing the GloVe embeddings\n",
    "\n",
    "Global Vector (GloVe) is the world embedding technique that uses the word to word cooccurance statistics from a large corpus.\n",
    "Here I have used downloaded version of the GloVe file and used for world embedding."
   ]
  },
  {
   "cell_type": "code",
   "execution_count": 10,
   "id": "13cda2d6",
   "metadata": {},
   "outputs": [
    {
     "name": "stdout",
     "output_type": "stream",
     "text": [
      "Glove data loaded! In total: 400000  words.\n"
     ]
    }
   ],
   "source": [
    "\n",
    "embeddings_index = {}\n",
    "\n",
    "f = open('glove.6B.100d.txt/glove.6B.100d.txt',encoding=\"utf8\")\n",
    "for line in f:\n",
    "    splitLine = line.split(' ')\n",
    "    word = splitLine[0]                                  # the first entry is the word\n",
    "    coefs = np.asarray(splitLine[1:], dtype='float32')   # these are the vectors representing word embeddings\n",
    "    embeddings_index[word] = coefs\n",
    "print(\"Glove data loaded! In total:\",len(embeddings_index),\" words.\")"
   ]
  },
  {
   "cell_type": "markdown",
   "id": "3ce72db6",
   "metadata": {},
   "source": [
    "Here, I have loaded the 400000 words and their 300- dimensional representation."
   ]
  },
  {
   "cell_type": "markdown",
   "id": "d1af20cf",
   "metadata": {},
   "source": [
    "### Next, I am going to build some helper functions. The first one randomly divides the dataframe into two subsamples, for training and validation, respectively."
   ]
  },
  {
   "cell_type": "code",
   "execution_count": 11,
   "id": "77902919",
   "metadata": {},
   "outputs": [],
   "source": [
    "def train_val_split(df, validation_split):\n",
    "    \"\"\"\n",
    "    This function generates the training and validation splits from an input dataframe and which returns:\n",
    "        train_samples: list of strings in the training dataset\n",
    "        val_samples: list of strings in the validation dataset\n",
    "        train_labels: list of labels (0 or 1) in the training dataset\n",
    "        val_labels: list of labels (0 or 1) in the validation dataset      \n",
    "    \"\"\"\n",
    "       \n",
    "    text = df['text'].values.tolist()                         \n",
    "    targets = df['target'].values.tolist()                   \n",
    "    \n",
    "#   Getting the training/validation datasets\n",
    "    \n",
    "    seed = random.randint(1,50)   # random integer in a range (1, 50)\n",
    "    rng = np.random.RandomState(seed)\n",
    "    rng.shuffle(text)\n",
    "    rng = np.random.RandomState(seed)\n",
    "    rng.shuffle(targets)\n",
    "\n",
    "    num_validation_samples = int(validation_split * len(text))\n",
    "\n",
    "    train_samples = text[:-num_validation_samples]\n",
    "    val_samples = text[-num_validation_samples:]\n",
    "    train_labels = targets[:-num_validation_samples]\n",
    "    val_labels = targets[-num_validation_samples:]\n",
    "    \n",
    "    print(f\"Total size of the dataset: {df.shape[0]}.\")\n",
    "    print(f\"Training dataset: {len(train_samples)}.\")\n",
    "    print(f\"Validation dataset: {len(val_samples)}.\")\n",
    "    \n",
    "    return train_samples, val_samples, train_labels, val_labels"
   ]
  },
  {
   "cell_type": "code",
   "execution_count": 12,
   "id": "c94a5812",
   "metadata": {},
   "outputs": [
    {
     "name": "stdout",
     "output_type": "stream",
     "text": [
      "Total size of the dataset: 7613.\n",
      "Training dataset: 6852.\n",
      "Validation dataset: 761.\n"
     ]
    }
   ],
   "source": [
    "train_samples, val_samples, train_labels, val_labels = train_val_split(train_data, 0.1)"
   ]
  },
  {
   "cell_type": "markdown",
   "id": "70bba8e2",
   "metadata": {},
   "source": [
    "### In the following steps I have used `TextVectorization` layer. And  I have also created an embedding matrix. In this case, the embedding matrix is N-by-300 matrix, where N is the total count of distinct words in the input dataframe. If the word is not found in the embeddings_index, then the corresponding column is all-zeroes"
   ]
  },
  {
   "cell_type": "code",
   "execution_count": 13,
   "id": "0dadbf53",
   "metadata": {},
   "outputs": [],
   "source": [
    "def make_embedding_matrix(train_samples, val_samples, embeddings_index):\n",
    "    \"\"\"\n",
    "    This function computes the embedding matrix that will be used in the embedding layer\n",
    "    \n",
    "    Parameters:\n",
    "        train_samples: list of strings in the training dataset\n",
    "        val_samples: list of strings in the validation dataset\n",
    "        embeddings_index: Python dictionary with word embeddings\n",
    "    \n",
    "    Returns:\n",
    "        embedding_matrix: embedding matrix with the dimensions (num_tokens, embedding_dim), where num_tokens is the vocabulary of the input data,\n",
    "        and emdebbing_dim is the number of components in the GloVe vectors.\n",
    "        vectorizer: TextVectorization layer      \n",
    "    \"\"\"\n",
    "    \n",
    "    vectorizer = TextVectorization(max_tokens=30000, output_sequence_length=50)\n",
    "    text_ds = tf.data.Dataset.from_tensor_slices(train_samples).batch(128)\n",
    "    vectorizer.adapt(text_ds)\n",
    "    \n",
    "    voc = vectorizer.get_vocabulary()\n",
    "    word_index = dict(zip(voc, range(len(voc))))\n",
    "      \n",
    "    num_tokens = len(voc)\n",
    "    \n",
    "    hits = 0\n",
    "    misses = 0\n",
    "\n",
    "#   creating an embedding matrix\n",
    "    embedding_dim = len(embeddings_index['the'])\n",
    "    embedding_matrix = np.zeros((num_tokens, embedding_dim))\n",
    "    for word, i in word_index.items():\n",
    "        embedding_vector = embeddings_index.get(word)\n",
    "        if embedding_vector is not None:\n",
    "            # Words not found in embedding index will be all-zeros\n",
    "            embedding_matrix[i] = embedding_vector\n",
    "            hits += 1\n",
    "        else:\n",
    "            misses += 1\n",
    "            \n",
    "    print(f\"Converted {hits} words ({misses} misses).\")\n",
    "\n",
    "    return embedding_matrix, vectorizer"
   ]
  },
  {
   "cell_type": "code",
   "execution_count": 14,
   "id": "37d9296b",
   "metadata": {},
   "outputs": [
    {
     "name": "stdout",
     "output_type": "stream",
     "text": [
      "Converted 9831 words (4590 misses).\n"
     ]
    }
   ],
   "source": [
    "embedding_matrix, vectorizer = make_embedding_matrix(train_samples, val_samples, embeddings_index)"
   ]
  },
  {
   "cell_type": "markdown",
   "id": "dd8cb612",
   "metadata": {},
   "source": [
    "\n",
    "### In the following steps I have initialized the keras model for training purpose, the architecture of the model is Embedding layer, Dropout, LSTM, Conv1D, GlobalMaxPooling1D, Dense and Output."
   ]
  },
  {
   "cell_type": "code",
   "execution_count": 15,
   "id": "f7752125",
   "metadata": {},
   "outputs": [],
   "source": [
    "def initialize_nn(embedding_matrix):\n",
    "    \"\"\"\n",
    "    This function initializes Keras model for binary text classification\n",
    "    \n",
    "    Parameters:\n",
    "        embedding matrix with the dimensions (num_tokens, embedding_dim), where num_tokens is the vocabulary size of the input data, and emdebbing_dim is the number of components in the GloVe vectors\n",
    "    \n",
    "    Returns:\n",
    "        model: Keras model    \n",
    "    \"\"\"\n",
    "    \n",
    "    num_tokens = embedding_matrix.shape[0]\n",
    "    embedding_dim = embedding_matrix.shape[1]\n",
    "    \n",
    "    embedding_layer = Embedding(\n",
    "    num_tokens,\n",
    "    embedding_dim,\n",
    "    embeddings_initializer=keras.initializers.Constant(embedding_matrix),\n",
    "    trainable=False,          \n",
    "    )\n",
    "    \n",
    "#   Here we define the architecture of the Keras model. \n",
    "    int_sequences_input = keras.Input(shape=(None,), dtype=\"int64\")\n",
    "    x = embedding_layer(int_sequences_input) \n",
    "    x = layers.Dropout(0.5)(x)\n",
    "    x = layers.LSTM(128,return_sequences=True)(x)\n",
    "    x = layers.Conv1D(128, 3, activation='relu')(x)\n",
    "    x = layers.GlobalMaxPooling1D()(x)\n",
    "    x = layers.Dense(64, activation=\"relu\")(x)\n",
    "    preds = layers.Dense(1, activation=\"sigmoid\")(x)\n",
    "    model = keras.Model(int_sequences_input, preds)\n",
    "    \n",
    "    return model"
   ]
  },
  {
   "cell_type": "code",
   "execution_count": 16,
   "id": "e4cab501",
   "metadata": {},
   "outputs": [
    {
     "name": "stdout",
     "output_type": "stream",
     "text": [
      "Model: \"functional_1\"\n",
      "_________________________________________________________________\n",
      "Layer (type)                 Output Shape              Param #   \n",
      "=================================================================\n",
      "input_1 (InputLayer)         [(None, None)]            0         \n",
      "_________________________________________________________________\n",
      "embedding (Embedding)        (None, None, 100)         1442100   \n",
      "_________________________________________________________________\n",
      "dropout (Dropout)            (None, None, 100)         0         \n",
      "_________________________________________________________________\n",
      "lstm (LSTM)                  (None, None, 128)         117248    \n",
      "_________________________________________________________________\n",
      "conv1d (Conv1D)              (None, None, 128)         49280     \n",
      "_________________________________________________________________\n",
      "global_max_pooling1d (Global (None, 128)               0         \n",
      "_________________________________________________________________\n",
      "dense (Dense)                (None, 64)                8256      \n",
      "_________________________________________________________________\n",
      "dense_1 (Dense)              (None, 1)                 65        \n",
      "=================================================================\n",
      "Total params: 1,616,949\n",
      "Trainable params: 174,849\n",
      "Non-trainable params: 1,442,100\n",
      "_________________________________________________________________\n"
     ]
    }
   ],
   "source": [
    "initial_model = initialize_nn(embedding_matrix)\n",
    "initial_model.summary()"
   ]
  },
  {
   "cell_type": "code",
   "execution_count": 17,
   "id": "0a73300f",
   "metadata": {},
   "outputs": [],
   "source": [
    "def train_nn(model, train_samples, val_samples, train_labels, val_labels, vectorizer, stop = False):\n",
    "    \"\"\"\n",
    "    This function fits the training data using validation data to calculate metrics.\n",
    "    \n",
    "    Parameters:\n",
    "        model: preinitialized Keras model\n",
    "        train_samples: list of strings in the training dataset\n",
    "        val_samples: list of strings in the validation dataset\n",
    "        train_labels: list of labels (0 or 1) in the training dataset\n",
    "        val_labels: list of labels (0 or 1) in the validation dataset\n",
    "        vectorizer: TextVectorization layer\n",
    "        stop (Boolean): flag for Early Stopping (aborting training when a monitored metric has stopped improving)\n",
    "    \n",
    "    Returns:\n",
    "        model: trained Keras model\n",
    "        history: callback that can be used to track the learning process\n",
    "    \"\"\"\n",
    "    \n",
    "    print('')\n",
    "    print(\"Training the model...\")\n",
    "    \n",
    "    model.compile(loss=\"binary_crossentropy\", \n",
    "              optimizer=\"adam\", \n",
    "              metrics=[\"acc\"])\n",
    "    \n",
    "    x_train = vectorizer(np.array([[s] for s in train_samples])).numpy()\n",
    "    x_val = vectorizer(np.array([[s] for s in val_samples])).numpy()\n",
    "    \n",
    "    y_train = np.asarray(train_labels).astype('float32').reshape((-1,1))\n",
    "    y_val = np.asarray(val_labels).astype('float32').reshape((-1,1))\n",
    "    \n",
    "    if stop:\n",
    "        early_stopping = EarlyStopping(monitor='val_loss', patience=1)\n",
    "        history = model.fit(x_train, y_train, batch_size=32, epochs=20, validation_data=(x_val, y_val), callbacks=[early_stopping], verbose=1)\n",
    "    else:\n",
    "        history = model.fit(x_train, y_train, batch_size=32, epochs=20, validation_data=(x_val, y_val), verbose=1)\n",
    "        \n",
    "    return model, history"
   ]
  },
  {
   "cell_type": "code",
   "execution_count": 18,
   "id": "67f40fd4",
   "metadata": {},
   "outputs": [
    {
     "name": "stdout",
     "output_type": "stream",
     "text": [
      "\n",
      "Training the model...\n",
      "Epoch 1/20\n",
      "215/215 [==============================] - 12s 54ms/step - loss: 0.5167 - acc: 0.7545 - val_loss: 0.5003 - val_acc: 0.7858\n",
      "Epoch 2/20\n",
      "215/215 [==============================] - 11s 49ms/step - loss: 0.4760 - acc: 0.7802 - val_loss: 0.4748 - val_acc: 0.7779\n",
      "Epoch 3/20\n",
      "215/215 [==============================] - 11s 52ms/step - loss: 0.4674 - acc: 0.7888 - val_loss: 0.4852 - val_acc: 0.7819\n",
      "Epoch 4/20\n",
      "215/215 [==============================] - 12s 57ms/step - loss: 0.4497 - acc: 0.7973 - val_loss: 0.4603 - val_acc: 0.7950\n",
      "Epoch 5/20\n",
      "215/215 [==============================] - 11s 50ms/step - loss: 0.4419 - acc: 0.7910 - val_loss: 0.4605 - val_acc: 0.7766\n",
      "Epoch 6/20\n",
      "215/215 [==============================] - 11s 52ms/step - loss: 0.4343 - acc: 0.8017 - val_loss: 0.4635 - val_acc: 0.7898\n",
      "Epoch 7/20\n",
      "215/215 [==============================] - 13s 58ms/step - loss: 0.4184 - acc: 0.8180 - val_loss: 0.5181 - val_acc: 0.7622\n",
      "Epoch 8/20\n",
      "215/215 [==============================] - 14s 64ms/step - loss: 0.4123 - acc: 0.8174 - val_loss: 0.4854 - val_acc: 0.7595\n",
      "Epoch 9/20\n",
      "215/215 [==============================] - 13s 62ms/step - loss: 0.4093 - acc: 0.8182 - val_loss: 0.4879 - val_acc: 0.7687\n",
      "Epoch 10/20\n",
      "215/215 [==============================] - 13s 61ms/step - loss: 0.3945 - acc: 0.8272 - val_loss: 0.4679 - val_acc: 0.7753\n",
      "Epoch 11/20\n",
      "215/215 [==============================] - 13s 60ms/step - loss: 0.3862 - acc: 0.8275 - val_loss: 0.4861 - val_acc: 0.7819\n",
      "Epoch 12/20\n",
      "215/215 [==============================] - 13s 60ms/step - loss: 0.3791 - acc: 0.8301 - val_loss: 0.4631 - val_acc: 0.7950\n",
      "Epoch 13/20\n",
      "215/215 [==============================] - 13s 62ms/step - loss: 0.3751 - acc: 0.8351 - val_loss: 0.4669 - val_acc: 0.8003\n",
      "Epoch 14/20\n",
      "215/215 [==============================] - 11s 50ms/step - loss: 0.3650 - acc: 0.8386 - val_loss: 0.4738 - val_acc: 0.7832\n",
      "Epoch 15/20\n",
      "215/215 [==============================] - 11s 50ms/step - loss: 0.3527 - acc: 0.8443 - val_loss: 0.4706 - val_acc: 0.7963\n",
      "Epoch 16/20\n",
      "215/215 [==============================] - 13s 60ms/step - loss: 0.3494 - acc: 0.8454 - val_loss: 0.4833 - val_acc: 0.7898\n",
      "Epoch 17/20\n",
      "215/215 [==============================] - 14s 67ms/step - loss: 0.3386 - acc: 0.8535 - val_loss: 0.4935 - val_acc: 0.7858\n",
      "Epoch 18/20\n",
      "215/215 [==============================] - 13s 62ms/step - loss: 0.3331 - acc: 0.8552 - val_loss: 0.5265 - val_acc: 0.7911\n",
      "Epoch 19/20\n",
      "215/215 [==============================] - 14s 63ms/step - loss: 0.3249 - acc: 0.8586 - val_loss: 0.4781 - val_acc: 0.7845\n",
      "Epoch 20/20\n",
      "215/215 [==============================] - 13s 63ms/step - loss: 0.3183 - acc: 0.8665 - val_loss: 0.5103 - val_acc: 0.7924\n"
     ]
    }
   ],
   "source": [
    "model, history = train_nn(initial_model, train_samples, val_samples, train_labels, val_labels, vectorizer, stop=False)"
   ]
  },
  {
   "cell_type": "code",
   "execution_count": 19,
   "id": "9a7035c1",
   "metadata": {},
   "outputs": [],
   "source": [
    "# here I define a function to plot the history of Keras model training\n",
    "\n",
    "plt.style.use('ggplot')\n",
    "\n",
    "def plot_history(history):\n",
    "    acc = history.history['acc']\n",
    "    val_acc = history.history['val_acc']\n",
    "    loss = history.history['loss']\n",
    "    val_loss = history.history['val_loss']\n",
    "    x = range(1, len(acc) + 1)\n",
    "\n",
    "    fig = plt.figure(figsize=(12,5))\n",
    "    ax1 = fig.add_subplot(121)    \n",
    "    ax1.plot(x, acc, 'b', label='Training acc')\n",
    "    ax1.plot(x, val_acc, 'r', label='Validation acc')\n",
    "    ax1.set_title('Training and validation accuracy')\n",
    "    ax1.set_ylim(0,1)\n",
    "    ax1.legend()\n",
    "    \n",
    "    ax2 = fig.add_subplot(122)\n",
    "    ax2.plot(x, loss, 'b', label='Training loss')\n",
    "    ax2.plot(x, val_loss, 'r', label='Validation loss')\n",
    "    ax2.set_title('Training and validation loss')\n",
    "    ax2.legend()"
   ]
  },
  {
   "cell_type": "code",
   "execution_count": 20,
   "id": "14e2fc9f",
   "metadata": {
    "scrolled": false
   },
   "outputs": [
    {
     "data": {
      "image/png": "[encoded data removed]",
      "text/plain": [
       "<Figure size 864x360 with 2 Axes>"
      ]
     },
     "metadata": {},
     "output_type": "display_data"
    }
   ],
   "source": [
    "plot_history(history)"
   ]
  },
  {
   "cell_type": "markdown",
   "id": "4c990d56",
   "metadata": {},
   "source": [
    "### As seen in the above figure, the training accuracy of the model seems increased as number of epoch increases, however, the validation accuracy increased at first and it remains steady for some range of epoch and then started to decline. Which clearly shows the sign of overfitting, in order to overcome this issues I have used early stopping method."
   ]
  },
  {
   "cell_type": "code",
   "execution_count": 21,
   "id": "36c493c0",
   "metadata": {
    "scrolled": false
   },
   "outputs": [
    {
     "name": "stdout",
     "output_type": "stream",
     "text": [
      "Total size of the dataset: 7613.\n",
      "Training dataset: 6852.\n",
      "Validation dataset: 761.\n",
      "Converted 9904 words (4592 misses).\n",
      "\n",
      "Training the model...\n",
      "Epoch 1/20\n",
      "215/215 [==============================] - 13s 60ms/step - loss: 0.5192 - acc: 0.7529 - val_loss: 0.4535 - val_acc: 0.7924\n",
      "Epoch 2/20\n",
      "215/215 [==============================] - 10s 45ms/step - loss: 0.4731 - acc: 0.7824 - val_loss: 0.4408 - val_acc: 0.7924\n",
      "Epoch 3/20\n",
      "215/215 [==============================] - 10s 47ms/step - loss: 0.4696 - acc: 0.7858 - val_loss: 0.4407 - val_acc: 0.7924\n",
      "Epoch 4/20\n",
      "215/215 [==============================] - 11s 52ms/step - loss: 0.4517 - acc: 0.7982 - val_loss: 0.4286 - val_acc: 0.7989\n",
      "Epoch 5/20\n",
      "215/215 [==============================] - 11s 52ms/step - loss: 0.4398 - acc: 0.7995 - val_loss: 0.4272 - val_acc: 0.8042\n",
      "Epoch 6/20\n",
      "215/215 [==============================] - 11s 53ms/step - loss: 0.4286 - acc: 0.8065 - val_loss: 0.4320 - val_acc: 0.8095\n"
     ]
    }
   ],
   "source": [
    "train_samples, val_samples, train_labels, val_labels = train_val_split(train_data, validation_split = 0.1)\n",
    "\n",
    "embedding_matrix, vectorizer = make_embedding_matrix(train_samples, val_samples, embeddings_index)\n",
    "\n",
    "initial_model = initialize_nn(embedding_matrix)\n",
    "\n",
    "model, history = train_nn(initial_model, train_samples, val_samples, train_labels, val_labels, vectorizer, stop=True)"
   ]
  },
  {
   "cell_type": "markdown",
   "id": "a0ec1bb1",
   "metadata": {},
   "source": [
    "### Finally, I have used following method to make predictions on the previously unseen data."
   ]
  },
  {
   "cell_type": "code",
   "execution_count": 43,
   "id": "a772d0d5",
   "metadata": {},
   "outputs": [],
   "source": [
    "def suggest_nn(df, model):\n",
    "    \"\"\"\n",
    "    This function generates (binary) targets from a dataframe with column \"text\" using trained Keras model\n",
    "    \n",
    "    Parameters:\n",
    "        df: pandas dataframe with column \"text\"\n",
    "        model: Keras model (trained)\n",
    "    \n",
    "    Output:\n",
    "        predictions: list of suggested targets corresponding to string entries from the column \"text\"\n",
    "    \"\"\"\n",
    "    \n",
    "    string_input = keras.Input(shape=(1,), dtype=\"string\")\n",
    "    x = vectorizer(string_input)\n",
    "    preds = model(x)\n",
    "    end_to_end_model = keras.Model(string_input, preds)\n",
    "\n",
    "    probabilities = end_to_end_model.predict(df[\"text\"])\n",
    "    \n",
    "    predictions = [1 if i > 0.5 else 0 for i in probabilities]\n",
    "    \n",
    "    return predictions"
   ]
  },
  {
   "cell_type": "code",
   "execution_count": 44,
   "id": "c8b5dfd8",
   "metadata": {},
   "outputs": [],
   "source": [
    "# Step to generate Submission.csv\n",
    "predictions = suggest_nn(test_data, model)\n",
    "\n",
    "submission_data = {\"ID\": test_data.id.tolist(), \"target\": predictions}\n",
    "\n",
    "submission_df = pd.DataFrame(submission_data)\n",
    "\n",
    "submission_df.to_csv('submission.csv', index=False)"
   ]
  },
  {
   "cell_type": "code",
   "execution_count": 71,
   "id": "4dcfd6b8",
   "metadata": {
    "scrolled": true
   },
   "outputs": [
    {
     "data": {
      "text/html": [
       "<div>\n",
       "<style scoped>\n",
       "    .dataframe tbody tr th:only-of-type {\n",
       "        vertical-align: middle;\n",
       "    }\n",
       "\n",
       "    .dataframe tbody tr th {\n",
       "        vertical-align: top;\n",
       "    }\n",
       "\n",
       "    .dataframe thead th {\n",
       "        text-align: right;\n",
       "    }\n",
       "</style>\n",
       "<table border=\"1\" class=\"dataframe\">\n",
       "  <thead>\n",
       "    <tr style=\"text-align: right;\">\n",
       "      <th></th>\n",
       "      <th>ID</th>\n",
       "      <th>target</th>\n",
       "    </tr>\n",
       "  </thead>\n",
       "  <tbody>\n",
       "    <tr>\n",
       "      <th>0</th>\n",
       "      <td>0</td>\n",
       "      <td>1</td>\n",
       "    </tr>\n",
       "    <tr>\n",
       "      <th>1</th>\n",
       "      <td>2</td>\n",
       "      <td>1</td>\n",
       "    </tr>\n",
       "    <tr>\n",
       "      <th>2</th>\n",
       "      <td>3</td>\n",
       "      <td>1</td>\n",
       "    </tr>\n",
       "    <tr>\n",
       "      <th>3</th>\n",
       "      <td>9</td>\n",
       "      <td>1</td>\n",
       "    </tr>\n",
       "    <tr>\n",
       "      <th>4</th>\n",
       "      <td>11</td>\n",
       "      <td>1</td>\n",
       "    </tr>\n",
       "  </tbody>\n",
       "</table>\n",
       "</div>"
      ],
      "text/plain": [
       "   ID  target\n",
       "0   0       1\n",
       "1   2       1\n",
       "2   3       1\n",
       "3   9       1\n",
       "4  11       1"
      ]
     },
     "execution_count": 71,
     "metadata": {},
     "output_type": "execute_result"
    }
   ],
   "source": [
    "submission_df.head()"
   ]
  },
  {
   "cell_type": "code",
   "execution_count": 82,
   "id": "0804b93e",
   "metadata": {},
   "outputs": [],
   "source": [
    "# Saving final model\n",
    "model.save(\"Disaster_Model.keras\")"
   ]
  }
 ],
 "metadata": {
  "kernelspec": {
   "display_name": "Python 3",
   "language": "python",
   "name": "python3"
  },
  "language_info": {
   "codemirror_mode": {
    "name": "ipython",
    "version": 3
   },
   "file_extension": ".py",
   "mimetype": "text/x-python",
   "name": "python",
   "nbconvert_exporter": "python",
   "pygments_lexer": "ipython3",
   "version": "3.8.8"
  }
 },
 "nbformat": 4,
 "nbformat_minor": 5
}
